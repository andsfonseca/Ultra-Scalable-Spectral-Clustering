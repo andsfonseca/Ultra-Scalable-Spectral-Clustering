{
 "cells": [
  {
   "cell_type": "code",
   "execution_count": null,
   "metadata": {},
   "outputs": [],
   "source": [
    "import warnings\n",
    "warnings.filterwarnings(\"ignore\") \n",
    "from IPython.core.display import display, HTML\n",
    "\n",
    "import time\n",
    "\n",
    "import numpy as np\n",
    "\n",
    "import matplotlib as mpl\n",
    "import matplotlib.pyplot as plt\n",
    "%matplotlib inline\n",
    "\n",
    "from sklearn.datasets import make_moons\n",
    "from sklearn.cluster import KMeans\n",
    "from scipy.sparse import csgraph"
   ]
  },
  {
   "cell_type": "markdown",
   "metadata": {},
   "source": [
    "Explorando dados"
   ]
  },
  {
   "cell_type": "code",
   "execution_count": null,
   "metadata": {},
   "outputs": [],
   "source": [
    "random_state = 21\n",
    "X_mn, y_mn = make_moons(5000, noise=.07, random_state=random_state)\n",
    "print(X_mn.shape)\n",
    "cmap = 'viridis'\n",
    "dot_size=50\n",
    "\n",
    "fig, ax = plt.subplots(figsize=(9,7))\n",
    "ax.set_title('Data with ground truth labels ', fontsize=18, fontweight='demi')\n",
    "\n",
    "ax.scatter(X_mn[:, 0], X_mn[:, 1],c=y_mn,s=dot_size, cmap=cmap)"
   ]
  },
  {
   "cell_type": "markdown",
   "metadata": {},
   "source": [
    "## Passo 1\n",
    "### Hybrid Representative Selection"
   ]
  },
  {
   "cell_type": "code",
   "execution_count": null,
   "metadata": {},
   "outputs": [],
   "source": [
    "def getRepresentivesByRandomSelection(data, pSize):\n",
    "    N = data.shape[0]\n",
    "    if pSize > N:\n",
    "        pSize = N\n",
    "    \n",
    "    selectIdx = np.random.permutation(np.arange(N))[:pSize]\n",
    "    randSelect = []\n",
    "    for i in selectIdx:\n",
    "        randSelect.append(data[i,:])\n",
    "\n",
    "    return np.array(randSelect)\n",
    "\n",
    "def getRepresentativesByHybridSelection(data, pSize, cntTimes=10):\n",
    "    N = data.shape[0]\n",
    "    bigPSize = cntTimes * pSize\n",
    "    \n",
    "    if pSize > N: \n",
    "        pSize = N\n",
    "    if bigPSize > N: \n",
    "        bigPSize = N\n",
    "\n",
    "    #random selection\n",
    "    np.random.seed(int(time.time()))\n",
    "    RpBigPdata = getRepresentivesByRandomSelection(data, bigPSize)\n",
    "    \n",
    "    #KNN selection\n",
    "    RpData = KMeans(n_clusters=pSize, max_iter=cntTimes).fit(RpBigPdata)\n",
    "    \n",
    "    return RpData\n",
    "\n",
    "RpData = getRepresentativesByHybridSelection(X_mn, 1000, 300)"
   ]
  },
  {
   "cell_type": "code",
   "execution_count": null,
   "metadata": {},
   "outputs": [],
   "source": [
    "RpData.cluster_centers_"
   ]
  },
  {
   "cell_type": "markdown",
   "metadata": {},
   "source": [
    "## Passo 2\n",
    "### Approximation of K-Nearest Representatives"
   ]
  },
  {
   "cell_type": "code",
   "execution_count": null,
   "metadata": {},
   "outputs": [],
   "source": [
    "cntRepCls = int(np.floor(np.sqrt(RpData.cluster_centers_.shape[0])))\n",
    "print(cntRepCls)\n",
    "AprData = KMeans(n_clusters=cntRepCls, max_iter=600).fit(RpData.cluster_centers_)"
   ]
  },
  {
   "cell_type": "code",
   "execution_count": null,
   "metadata": {},
   "outputs": [],
   "source": [
    "AprData.labels_.shape"
   ]
  },
  {
   "cell_type": "code",
   "execution_count": null,
   "metadata": {},
   "outputs": [],
   "source": [
    "AprData.cluster_centers_"
   ]
  },
  {
   "cell_type": "code",
   "execution_count": null,
   "metadata": {},
   "outputs": [],
   "source": [
    "def GaussianKernel(x, y, sigma):\n",
    "    return np.exp(-(np.power(np.linalg.norm(x-y),2))/2*np.power(sigma,2))\n",
    "def GaussDistance(x, y, sigma=0.5):\n",
    "    return np.sqrt(GaussianKernel(x, x, sigma) - 2*GaussianKernel(x, y, sigma) + GaussianKernel(y, y, sigma))"
   ]
  },
  {
   "cell_type": "code",
   "execution_count": null,
   "metadata": {},
   "outputs": [],
   "source": [
    "nn=AprData.predict(X_mn)"
   ]
  },
  {
   "cell_type": "code",
   "execution_count": null,
   "metadata": {
    "tags": []
   },
   "outputs": [],
   "source": [
    "N = X_mn.shape[0]\n",
    "p = AprData.cluster_centers_.shape[0]\n",
    "\n",
    "B = np.zeros((N, p))\n",
    "for i in range(B.shape[0]):\n",
    "    sigma  = np.mean(np.linalg.norm(X_mn[i]-AprData.cluster_centers_))\n",
    "    B[i,nn[i]] = GaussianKernel(X_mn[i], AprData.cluster_centers_[nn[i]], sigma=sigma)"
   ]
  },
  {
   "cell_type": "markdown",
   "metadata": {},
   "source": [
    "## Passo 3\n",
    "### Bipartite Graph Partitioning"
   ]
  },
  {
   "cell_type": "code",
   "execution_count": null,
   "metadata": {},
   "outputs": [],
   "source": [
    "B"
   ]
  },
  {
   "cell_type": "code",
   "execution_count": null,
   "metadata": {},
   "outputs": [],
   "source": [
    "dx = np.sum(B, 1)\n",
    "dx = np.where(dx == 0, 1e-10, dx)\n",
    "dx = 1/dx\n",
    "Dx = np.zeros((N, N))\n",
    "np.fill_diagonal(Dx, dx)\n",
    "Er = B.T @ Dx @ B"
   ]
  },
  {
   "cell_type": "code",
   "execution_count": null,
   "metadata": {},
   "outputs": [],
   "source": [
    "d = np.sum(Er, 1);\n",
    "d = 1/np.sqrt(d)\n",
    "D = np.zeros((p, p))\n",
    "np.fill_diagonal(D, d)\n",
    "Dr = D @ Er @ D\n",
    "Dr = (Dr + Dr.T)/2"
   ]
  },
  {
   "cell_type": "code",
   "execution_count": null,
   "metadata": {},
   "outputs": [],
   "source": [
    "aval, avec = np.linalg.eig(Dr)"
   ]
  },
  {
   "cell_type": "code",
   "execution_count": null,
   "metadata": {},
   "outputs": [],
   "source": [
    "idx = np.argsort(aval, kind='mergesort')[::-1]\n",
    "Ncut_avec = D @ avec[:,idx[:]]"
   ]
  },
  {
   "cell_type": "code",
   "execution_count": null,
   "metadata": {},
   "outputs": [],
   "source": [
    "res = Dx @ B @ Ncut_avec"
   ]
  },
  {
   "cell_type": "code",
   "execution_count": null,
   "metadata": {},
   "outputs": [],
   "source": [
    "res.shape"
   ]
  },
  {
   "cell_type": "code",
   "execution_count": null,
   "metadata": {},
   "outputs": [],
   "source": [
    "norm = (np.sqrt(np.sum(res*res,1)) + 1e-10)\n",
    "for i in range(res.shape[0]):\n",
    "    res[i,:] = res[i,:]/norm[i]"
   ]
  },
  {
   "cell_type": "code",
   "execution_count": null,
   "metadata": {},
   "outputs": [],
   "source": [
    "res"
   ]
  },
  {
   "cell_type": "code",
   "execution_count": null,
   "metadata": {},
   "outputs": [],
   "source": [
    "K =  KMeans(n_clusters=2, max_iter=1000).fit(res)"
   ]
  },
  {
   "cell_type": "code",
   "execution_count": null,
   "metadata": {},
   "outputs": [],
   "source": [
    "pred = K.labels_"
   ]
  },
  {
   "cell_type": "code",
   "execution_count": null,
   "metadata": {},
   "outputs": [],
   "source": [
    "fig, ax = plt.subplots(figsize=(9,7))\n",
    "ax.set_title('Data after spectral clustering from scratch', fontsize=18, fontweight='demi')\n",
    "ax.scatter(X_mn[:, 0], X_mn[:, 1],c=pred,s=dot_size, cmap=cmap)"
   ]
  },
  {
   "cell_type": "code",
   "execution_count": null,
   "metadata": {},
   "outputs": [],
   "source": []
  }
 ],
 "metadata": {
  "kernelspec": {
   "display_name": "Python 3",
   "language": "python",
   "name": "python3"
  },
  "language_info": {
   "codemirror_mode": {
    "name": "ipython",
    "version": 3
   },
   "file_extension": ".py",
   "mimetype": "text/x-python",
   "name": "python",
   "nbconvert_exporter": "python",
   "pygments_lexer": "ipython3",
   "version": "3.6.8-final"
  }
 },
 "nbformat": 4,
 "nbformat_minor": 4
}